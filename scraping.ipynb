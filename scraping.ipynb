{
 "cells": [
  {
   "cell_type": "code",
   "execution_count": 17,
   "metadata": {},
   "outputs": [],
   "source": [
    "import requests\n",
    "import time\n",
    "from bs4 import BeautifulSoup\n",
    "import pandas as pd\n",
    "import datetime\n",
    "import locale\n",
    "locale.setlocale(locale.LC_ALL, \"ru\") \n",
    "import json"
   ]
  },
  {
   "cell_type": "markdown",
   "metadata": {},
   "source": [
    "### Задание 1 - Обязательная часть"
   ]
  },
  {
   "cell_type": "code",
   "execution_count": 2,
   "metadata": {},
   "outputs": [],
   "source": [
    "keywords = ['Фриланс', 'парсинг']"
   ]
  },
  {
   "cell_type": "code",
   "execution_count": 3,
   "metadata": {},
   "outputs": [],
   "source": [
    "pages = ['https://habr.com/ru/all/page' + str(x) for x in range(1,51)]"
   ]
  },
  {
   "cell_type": "code",
   "execution_count": 4,
   "metadata": {},
   "outputs": [],
   "source": [
    "forcast = pd.DataFrame()"
   ]
  },
  {
   "cell_type": "code",
   "execution_count": 5,
   "metadata": {},
   "outputs": [],
   "source": [
    "for page in pages:\n",
    "    # получаем страницу\n",
    "    req = requests.get(page)\n",
    "    soup = BeautifulSoup(req.text)\n",
    "    \n",
    "    # извлекаем посты\n",
    "    posts = soup.find_all('article', class_='post post_preview')\n",
    "    \n",
    "    # находим посты с нашими ключевыми словами\n",
    "    for post in posts:\n",
    "        for key in keywords:\n",
    "            if key in post.text:\n",
    "                # извлекаем дату, название статьи, ссылку для записи в Dataframe\n",
    "                date = post.find('span', class_=\"post__time\").text\n",
    "                if \"сегодня\" in date:\n",
    "                    date = date.replace(\"сегодня\", str(datetime.date.today()))\n",
    "                elif \"вчера\" in date:\n",
    "                    date = date.replace(\"вчера\", str(datetime.date.today() - datetime.timedelta(days=1)))\n",
    "                link = post.find('a', class_=\"post__title_link\").get('href')\n",
    "                title = post.find('a', class_=\"post__title_link\").text\n",
    "                row = {'date':date, 'title': title, 'link': link}\n",
    "                forcast = pd.concat([forcast, pd.DataFrame([row])])"
   ]
  },
  {
   "cell_type": "code",
   "execution_count": 6,
   "metadata": {},
   "outputs": [
    {
     "data": {
      "text/html": [
       "<div>\n",
       "<style scoped>\n",
       "    .dataframe tbody tr th:only-of-type {\n",
       "        vertical-align: middle;\n",
       "    }\n",
       "\n",
       "    .dataframe tbody tr th {\n",
       "        vertical-align: top;\n",
       "    }\n",
       "\n",
       "    .dataframe thead th {\n",
       "        text-align: right;\n",
       "    }\n",
       "</style>\n",
       "<table border=\"1\" class=\"dataframe\">\n",
       "  <thead>\n",
       "    <tr style=\"text-align: right;\">\n",
       "      <th></th>\n",
       "      <th>date</th>\n",
       "      <th>title</th>\n",
       "      <th>link</th>\n",
       "    </tr>\n",
       "  </thead>\n",
       "  <tbody>\n",
       "    <tr>\n",
       "      <th>0</th>\n",
       "      <td>24 марта 2021 в 07:33</td>\n",
       "      <td>Заказчик не платит: как защититься или как заб...</td>\n",
       "      <td>https://habr.com/ru/company/itsoft/blog/548474/</td>\n",
       "    </tr>\n",
       "    <tr>\n",
       "      <th>0</th>\n",
       "      <td>21 марта 2021 в 13:44</td>\n",
       "      <td>15 заповедей IT-фриланса и мелкой разработки</td>\n",
       "      <td>https://habr.com/ru/post/548142/</td>\n",
       "    </tr>\n",
       "    <tr>\n",
       "      <th>0</th>\n",
       "      <td>16 марта 2021 в 12:35</td>\n",
       "      <td>Анонимный запрос</td>\n",
       "      <td>https://habr.com/ru/post/547300/</td>\n",
       "    </tr>\n",
       "    <tr>\n",
       "      <th>0</th>\n",
       "      <td>10 марта 2021 в 15:17</td>\n",
       "      <td>О самозанятых и трудящихся. Все о переезде в П...</td>\n",
       "      <td>https://habr.com/ru/post/546196/</td>\n",
       "    </tr>\n",
       "    <tr>\n",
       "      <th>0</th>\n",
       "      <td>10 марта 2021 в 15:01</td>\n",
       "      <td>Парсинг — это законно?</td>\n",
       "      <td>https://habr.com/ru/post/545818/</td>\n",
       "    </tr>\n",
       "  </tbody>\n",
       "</table>\n",
       "</div>"
      ],
      "text/plain": [
       "                    date                                              title  \\\n",
       "0  24 марта 2021 в 07:33  Заказчик не платит: как защититься или как заб...   \n",
       "0  21 марта 2021 в 13:44       15 заповедей IT-фриланса и мелкой разработки   \n",
       "0  16 марта 2021 в 12:35                                   Анонимный запрос   \n",
       "0  10 марта 2021 в 15:17  О самозанятых и трудящихся. Все о переезде в П...   \n",
       "0  10 марта 2021 в 15:01                             Парсинг — это законно?   \n",
       "\n",
       "                                              link  \n",
       "0  https://habr.com/ru/company/itsoft/blog/548474/  \n",
       "0                 https://habr.com/ru/post/548142/  \n",
       "0                 https://habr.com/ru/post/547300/  \n",
       "0                 https://habr.com/ru/post/546196/  \n",
       "0                 https://habr.com/ru/post/545818/  "
      ]
     },
     "execution_count": 6,
     "metadata": {},
     "output_type": "execute_result"
    }
   ],
   "source": [
    "forcast.head()"
   ]
  },
  {
   "cell_type": "markdown",
   "metadata": {},
   "source": [
    "### Задание 2 - Обязательная часть"
   ]
  },
  {
   "cell_type": "code",
   "execution_count": 8,
   "metadata": {},
   "outputs": [],
   "source": [
    "emails_2 = {'emailAddresses':['xxx@x.ru', 'yyy@y.com']}"
   ]
  },
  {
   "cell_type": "code",
   "execution_count": 9,
   "metadata": {},
   "outputs": [],
   "source": [
    "url = 'https://identityprotection.avast.com/v1/web/query/site-breaches/unauthorized-data'"
   ]
  },
  {
   "cell_type": "code",
   "execution_count": 10,
   "metadata": {},
   "outputs": [],
   "source": [
    "headers =  {'Vaar-Version': '0', 'Vaar-Header-App-Product-Name': 'hackcheck-web-avast', 'Vaar-Header-App-Build-Version': '1.0.0'}"
   ]
  },
  {
   "cell_type": "code",
   "execution_count": 11,
   "metadata": {},
   "outputs": [],
   "source": [
    "avast_response = requests.post(url, json = emails_2, headers = headers)\n"
   ]
  },
  {
   "cell_type": "code",
   "execution_count": 22,
   "metadata": {},
   "outputs": [],
   "source": [
    "response = json.loads(avast_response.text)"
   ]
  },
  {
   "cell_type": "code",
   "execution_count": 85,
   "metadata": {},
   "outputs": [],
   "source": [
    "# Сделаем словарь, где ключ - емейл, а значение: список id утечек\n",
    "response['summary']\n",
    "emails_and_breaches = {key:list(value.values())[0] for key,value in response['summary'].items()}"
   ]
  },
  {
   "cell_type": "code",
   "execution_count": 34,
   "metadata": {},
   "outputs": [
    {
     "data": {
      "text/plain": [
       "{'xxx@x.ru': [3176, 12, 3, 3164, 2961, 15],\n",
       " 'yyy@y.com': [17110,\n",
       "  17670,\n",
       "  13094,\n",
       "  37177,\n",
       "  16768,\n",
       "  41,\n",
       "  2,\n",
       "  3587,\n",
       "  17009,\n",
       "  3,\n",
       "  13662,\n",
       "  3520,\n",
       "  15,\n",
       "  3669]}"
      ]
     },
     "execution_count": 34,
     "metadata": {},
     "output_type": "execute_result"
    }
   ],
   "source": [
    "emails_and_breaches"
   ]
  },
  {
   "cell_type": "code",
   "execution_count": 36,
   "metadata": {},
   "outputs": [],
   "source": [
    "forcast_2 = pd.DataFrame()"
   ]
  },
  {
   "cell_type": "code",
   "execution_count": 86,
   "metadata": {},
   "outputs": [],
   "source": [
    "# Итерируемся по всем ошибкам, если находим совпадение с нашим списком (emails_and_breaches), извлекаем данные и формируем dataFrame\n",
    "for mail, ids in emails_and_breaches.items():\n",
    "    email_df = mail\n",
    "    for breach,data in response['breaches'].items():\n",
    "        if int(breach) in ids:\n",
    "            date_df = data['publishDate']\n",
    "            source_df = data['site']\n",
    "            description_df = data['description']\n",
    "            row_2 = {'email':email_df, 'date': date_df, 'source': source_df, 'description': description_df}\n",
    "            forcast_2 = pd.concat([forcast_2, pd.DataFrame([row_2])])  "
   ]
  },
  {
   "cell_type": "code",
   "execution_count": 84,
   "metadata": {},
   "outputs": [
    {
     "data": {
      "text/html": [
       "<div>\n",
       "<style scoped>\n",
       "    .dataframe tbody tr th:only-of-type {\n",
       "        vertical-align: middle;\n",
       "    }\n",
       "\n",
       "    .dataframe tbody tr th {\n",
       "        vertical-align: top;\n",
       "    }\n",
       "\n",
       "    .dataframe thead th {\n",
       "        text-align: right;\n",
       "    }\n",
       "</style>\n",
       "<table border=\"1\" class=\"dataframe\">\n",
       "  <thead>\n",
       "    <tr style=\"text-align: right;\">\n",
       "      <th></th>\n",
       "      <th>email</th>\n",
       "      <th>date</th>\n",
       "      <th>source</th>\n",
       "      <th>description</th>\n",
       "    </tr>\n",
       "  </thead>\n",
       "  <tbody>\n",
       "    <tr>\n",
       "      <th>0</th>\n",
       "      <td>xxx@x.ru</td>\n",
       "      <td>2017-02-14T00:00:00Z</td>\n",
       "      <td>parapa.mail.ru</td>\n",
       "      <td>In July and August 2016, two criminals execute...</td>\n",
       "    </tr>\n",
       "    <tr>\n",
       "      <th>0</th>\n",
       "      <td>xxx@x.ru</td>\n",
       "      <td>2016-10-29T00:00:00Z</td>\n",
       "      <td>vk.com</td>\n",
       "      <td>Popular Russian social networking platform VKo...</td>\n",
       "    </tr>\n",
       "    <tr>\n",
       "      <th>0</th>\n",
       "      <td>xxx@x.ru</td>\n",
       "      <td>2016-10-21T00:00:00Z</td>\n",
       "      <td>adobe.com</td>\n",
       "      <td>In October of 2013, criminals penetrated Adobe...</td>\n",
       "    </tr>\n",
       "    <tr>\n",
       "      <th>0</th>\n",
       "      <td>xxx@x.ru</td>\n",
       "      <td>2017-02-14T00:00:00Z</td>\n",
       "      <td>cfire.mail.ru</td>\n",
       "      <td>In July and August of 2016, two criminals carr...</td>\n",
       "    </tr>\n",
       "    <tr>\n",
       "      <th>0</th>\n",
       "      <td>xxx@x.ru</td>\n",
       "      <td>2017-01-31T00:00:00Z</td>\n",
       "      <td>cdprojektred.com</td>\n",
       "      <td>In March 2016, CDProjektRed.com.com's forum da...</td>\n",
       "    </tr>\n",
       "    <tr>\n",
       "      <th>0</th>\n",
       "      <td>xxx@x.ru</td>\n",
       "      <td>2016-10-23T00:00:00Z</td>\n",
       "      <td>imesh.com</td>\n",
       "      <td>In June 2016, a cache of over 51 million user ...</td>\n",
       "    </tr>\n",
       "    <tr>\n",
       "      <th>0</th>\n",
       "      <td>yyy@y.com</td>\n",
       "      <td>2020-01-03T00:00:00Z</td>\n",
       "      <td>azcentral.com</td>\n",
       "      <td>At an unconfirmed date, online Arizona newspap...</td>\n",
       "    </tr>\n",
       "    <tr>\n",
       "      <th>0</th>\n",
       "      <td>yyy@y.com</td>\n",
       "      <td>2020-05-28T00:00:00Z</td>\n",
       "      <td>wishbone.io</td>\n",
       "      <td>In January 2020, the online poll website Wishb...</td>\n",
       "    </tr>\n",
       "    <tr>\n",
       "      <th>0</th>\n",
       "      <td>yyy@y.com</td>\n",
       "      <td>2017-11-04T00:00:00Z</td>\n",
       "      <td>myheritage.com</td>\n",
       "      <td>In October 2017, a customer database belonging...</td>\n",
       "    </tr>\n",
       "    <tr>\n",
       "      <th>0</th>\n",
       "      <td>yyy@y.com</td>\n",
       "      <td>2021-02-11T00:00:00Z</td>\n",
       "      <td>forums.vkmonline.com</td>\n",
       "      <td>At an unconfirmed date, the Russian-language m...</td>\n",
       "    </tr>\n",
       "    <tr>\n",
       "      <th>0</th>\n",
       "      <td>yyy@y.com</td>\n",
       "      <td>2019-06-13T00:00:00Z</td>\n",
       "      <td>canva.com</td>\n",
       "      <td>In May 2019, graphic-design site Canva's datab...</td>\n",
       "    </tr>\n",
       "    <tr>\n",
       "      <th>0</th>\n",
       "      <td>yyy@y.com</td>\n",
       "      <td>2016-10-24T00:00:00Z</td>\n",
       "      <td>dropbox.com</td>\n",
       "      <td>Cloud storage company Dropbox suffered a major...</td>\n",
       "    </tr>\n",
       "    <tr>\n",
       "      <th>0</th>\n",
       "      <td>yyy@y.com</td>\n",
       "      <td>2016-10-21T00:00:00Z</td>\n",
       "      <td>linkedin.com</td>\n",
       "      <td>In 2012, online professional networking platfo...</td>\n",
       "    </tr>\n",
       "    <tr>\n",
       "      <th>0</th>\n",
       "      <td>yyy@y.com</td>\n",
       "      <td>2017-03-01T00:00:00Z</td>\n",
       "      <td>rayli.com.cn</td>\n",
       "      <td>On an unconfirmed date, Chinese gossip site Ra...</td>\n",
       "    </tr>\n",
       "    <tr>\n",
       "      <th>0</th>\n",
       "      <td>yyy@y.com</td>\n",
       "      <td>2019-10-17T00:00:00Z</td>\n",
       "      <td>zynga.com</td>\n",
       "      <td>In September 2019, the game developer Zynga wa...</td>\n",
       "    </tr>\n",
       "    <tr>\n",
       "      <th>0</th>\n",
       "      <td>yyy@y.com</td>\n",
       "      <td>2016-10-21T00:00:00Z</td>\n",
       "      <td>adobe.com</td>\n",
       "      <td>In October of 2013, criminals penetrated Adobe...</td>\n",
       "    </tr>\n",
       "    <tr>\n",
       "      <th>0</th>\n",
       "      <td>yyy@y.com</td>\n",
       "      <td>2018-02-18T00:00:00Z</td>\n",
       "      <td>netlog.com</td>\n",
       "      <td>Netlog (formerly known as Facebox and Bingbox)...</td>\n",
       "    </tr>\n",
       "    <tr>\n",
       "      <th>0</th>\n",
       "      <td>yyy@y.com</td>\n",
       "      <td>2017-03-15T00:00:00Z</td>\n",
       "      <td>globalreach.eu</td>\n",
       "      <td>In 2016, Global Reach Technology's database wa...</td>\n",
       "    </tr>\n",
       "    <tr>\n",
       "      <th>0</th>\n",
       "      <td>yyy@y.com</td>\n",
       "      <td>2016-10-23T00:00:00Z</td>\n",
       "      <td>imesh.com</td>\n",
       "      <td>In June 2016, a cache of over 51 million user ...</td>\n",
       "    </tr>\n",
       "    <tr>\n",
       "      <th>0</th>\n",
       "      <td>yyy@y.com</td>\n",
       "      <td>2017-03-24T00:00:00Z</td>\n",
       "      <td>youku.com</td>\n",
       "      <td>Youku is a large Chinese video content company...</td>\n",
       "    </tr>\n",
       "  </tbody>\n",
       "</table>\n",
       "</div>"
      ],
      "text/plain": [
       "       email                  date                source  \\\n",
       "0   xxx@x.ru  2017-02-14T00:00:00Z        parapa.mail.ru   \n",
       "0   xxx@x.ru  2016-10-29T00:00:00Z                vk.com   \n",
       "0   xxx@x.ru  2016-10-21T00:00:00Z             adobe.com   \n",
       "0   xxx@x.ru  2017-02-14T00:00:00Z         cfire.mail.ru   \n",
       "0   xxx@x.ru  2017-01-31T00:00:00Z      cdprojektred.com   \n",
       "0   xxx@x.ru  2016-10-23T00:00:00Z             imesh.com   \n",
       "0  yyy@y.com  2020-01-03T00:00:00Z         azcentral.com   \n",
       "0  yyy@y.com  2020-05-28T00:00:00Z           wishbone.io   \n",
       "0  yyy@y.com  2017-11-04T00:00:00Z        myheritage.com   \n",
       "0  yyy@y.com  2021-02-11T00:00:00Z  forums.vkmonline.com   \n",
       "0  yyy@y.com  2019-06-13T00:00:00Z             canva.com   \n",
       "0  yyy@y.com  2016-10-24T00:00:00Z           dropbox.com   \n",
       "0  yyy@y.com  2016-10-21T00:00:00Z          linkedin.com   \n",
       "0  yyy@y.com  2017-03-01T00:00:00Z          rayli.com.cn   \n",
       "0  yyy@y.com  2019-10-17T00:00:00Z             zynga.com   \n",
       "0  yyy@y.com  2016-10-21T00:00:00Z             adobe.com   \n",
       "0  yyy@y.com  2018-02-18T00:00:00Z            netlog.com   \n",
       "0  yyy@y.com  2017-03-15T00:00:00Z        globalreach.eu   \n",
       "0  yyy@y.com  2016-10-23T00:00:00Z             imesh.com   \n",
       "0  yyy@y.com  2017-03-24T00:00:00Z             youku.com   \n",
       "\n",
       "                                         description  \n",
       "0  In July and August 2016, two criminals execute...  \n",
       "0  Popular Russian social networking platform VKo...  \n",
       "0  In October of 2013, criminals penetrated Adobe...  \n",
       "0  In July and August of 2016, two criminals carr...  \n",
       "0  In March 2016, CDProjektRed.com.com's forum da...  \n",
       "0  In June 2016, a cache of over 51 million user ...  \n",
       "0  At an unconfirmed date, online Arizona newspap...  \n",
       "0  In January 2020, the online poll website Wishb...  \n",
       "0  In October 2017, a customer database belonging...  \n",
       "0  At an unconfirmed date, the Russian-language m...  \n",
       "0  In May 2019, graphic-design site Canva's datab...  \n",
       "0  Cloud storage company Dropbox suffered a major...  \n",
       "0  In 2012, online professional networking platfo...  \n",
       "0  On an unconfirmed date, Chinese gossip site Ra...  \n",
       "0  In September 2019, the game developer Zynga wa...  \n",
       "0  In October of 2013, criminals penetrated Adobe...  \n",
       "0  Netlog (formerly known as Facebox and Bingbox)...  \n",
       "0  In 2016, Global Reach Technology's database wa...  \n",
       "0  In June 2016, a cache of over 51 million user ...  \n",
       "0  Youku is a large Chinese video content company...  "
      ]
     },
     "execution_count": 84,
     "metadata": {},
     "output_type": "execute_result"
    }
   ],
   "source": [
    "forcast_2"
   ]
  }
 ],
 "metadata": {
  "kernelspec": {
   "display_name": "Python 3",
   "language": "python",
   "name": "python3"
  },
  "language_info": {
   "codemirror_mode": {
    "name": "ipython",
    "version": 3
   },
   "file_extension": ".py",
   "mimetype": "text/x-python",
   "name": "python",
   "nbconvert_exporter": "python",
   "pygments_lexer": "ipython3",
   "version": "3.8.5"
  }
 },
 "nbformat": 4,
 "nbformat_minor": 4
}
